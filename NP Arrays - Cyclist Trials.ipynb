{
  "nbformat": 4,
  "nbformat_minor": 0,
  "metadata": {
    "colab": {
      "provenance": [],
      "authorship_tag": "ABX9TyNAj1a1QnbsG32UI2DPGY0M",
      "include_colab_link": true
    },
    "kernelspec": {
      "name": "python3",
      "display_name": "Python 3"
    },
    "language_info": {
      "name": "python"
    }
  },
  "cells": [
    {
      "cell_type": "markdown",
      "metadata": {
        "id": "view-in-github",
        "colab_type": "text"
      },
      "source": [
        "<a href=\"https://colab.research.google.com/github/JosephHauser912/SL-Projects/blob/main/NP%20Arrays%20-%20Cyclist%20Trials.ipynb\" target=\"_parent\"><img src=\"https://colab.research.google.com/assets/colab-badge.svg\" alt=\"Open In Colab\"/></a>"
      ]
    },
    {
      "cell_type": "code",
      "execution_count": 2,
      "metadata": {
        "id": "q3JRmh6laLry"
      },
      "outputs": [],
      "source": [
        "import numpy as np\n",
        "from array import *"
      ]
    },
    {
      "cell_type": "code",
      "source": [
        "new_cyclist_trials = np.array([[10,15,17,26,13,1],[12,11,21,24,14,23]])"
      ],
      "metadata": {
        "id": "rYDStoZSgL4j"
      },
      "execution_count": 3,
      "outputs": []
    },
    {
      "cell_type": "code",
      "source": [
        "print(new_cyclist_trials)"
      ],
      "metadata": {
        "colab": {
          "base_uri": "https://localhost:8080/"
        },
        "id": "1yp55mgcgfL0",
        "outputId": "d1c297c1-0967-4a90-edd8-616599463cea"
      },
      "execution_count": 4,
      "outputs": [
        {
          "output_type": "stream",
          "name": "stdout",
          "text": [
            "[[10 15 17 26 13  1]\n",
            " [12 11 21 24 14 23]]\n"
          ]
        }
      ]
    },
    {
      "cell_type": "code",
      "source": [
        "new_cyclist_trials.ravel()"
      ],
      "metadata": {
        "colab": {
          "base_uri": "https://localhost:8080/"
        },
        "id": "H62hx6QFgh7u",
        "outputId": "4dad66d1-8e67-4309-8655-61c94f9320a0"
      },
      "execution_count": 5,
      "outputs": [
        {
          "output_type": "execute_result",
          "data": {
            "text/plain": [
              "array([10, 15, 17, 26, 13,  1, 12, 11, 21, 24, 14, 23])"
            ]
          },
          "metadata": {},
          "execution_count": 5
        }
      ]
    },
    {
      "cell_type": "code",
      "source": [
        "new_cyclist_trials.reshape(3,4 )"
      ],
      "metadata": {
        "colab": {
          "base_uri": "https://localhost:8080/"
        },
        "id": "_gUgAWOpgrPy",
        "outputId": "aa503333-63dd-4a9f-8284-e7bc4d1d5b6c"
      },
      "execution_count": 6,
      "outputs": [
        {
          "output_type": "execute_result",
          "data": {
            "text/plain": [
              "array([[10, 15, 17, 26],\n",
              "       [13,  1, 12, 11],\n",
              "       [21, 24, 14, 23]])"
            ]
          },
          "metadata": {},
          "execution_count": 6
        }
      ]
    },
    {
      "cell_type": "code",
      "source": [
        "new_cyclist_trials.resize(2,6)"
      ],
      "metadata": {
        "id": "3SDYm0P-grjv"
      },
      "execution_count": 7,
      "outputs": []
    },
    {
      "cell_type": "markdown",
      "source": [
        "new_cyclist_trials\n"
      ],
      "metadata": {
        "id": "9QQXLHI9hAbs"
      }
    },
    {
      "cell_type": "code",
      "source": [
        "new_cyclist_trials.resize(1,12)\n",
        "print(new_cyclist_trials)\n",
        "new_cyclist_trials.resize(2,6)\n",
        "print(new_cyclist_trials)"
      ],
      "metadata": {
        "colab": {
          "base_uri": "https://localhost:8080/"
        },
        "id": "MuCc_pzthINN",
        "outputId": "940355e8-4710-40de-9187-ba845d573fcf"
      },
      "execution_count": 13,
      "outputs": [
        {
          "output_type": "stream",
          "name": "stdout",
          "text": [
            "[[10 15 17 26 13  1 12 11 21 24 14 23]]\n",
            "[[10 15 17 26 13  1]\n",
            " [12 11 21 24 14 23]]\n"
          ]
        }
      ]
    },
    {
      "cell_type": "code",
      "source": [
        "np.hsplit(new_cyclist_trials,2)"
      ],
      "metadata": {
        "colab": {
          "base_uri": "https://localhost:8080/"
        },
        "id": "EH56nbF3hdJL",
        "outputId": "6f8a421d-0922-41f0-d2af-8dc0ebb5c408"
      },
      "execution_count": 17,
      "outputs": [
        {
          "output_type": "execute_result",
          "data": {
            "text/plain": [
              "[array([[10, 15, 17],\n",
              "        [12, 11, 21]]),\n",
              " array([[26, 13,  1],\n",
              "        [24, 14, 23]])]"
            ]
          },
          "metadata": {},
          "execution_count": 17
        }
      ]
    },
    {
      "cell_type": "code",
      "source": [
        "new_cyclist_1 = np.array([10,15,17,26,13,19])"
      ],
      "metadata": {
        "id": "23cvle2bho-C"
      },
      "execution_count": 18,
      "outputs": []
    },
    {
      "cell_type": "code",
      "source": [
        "new_cyclist_2 = np.array([12,11,21,24,14,23])"
      ],
      "metadata": {
        "id": "p7_7sqfehzgy"
      },
      "execution_count": 19,
      "outputs": []
    },
    {
      "cell_type": "code",
      "source": [
        "np.hstack((new_cyclist_1,new_cyclist_2))"
      ],
      "metadata": {
        "colab": {
          "base_uri": "https://localhost:8080/"
        },
        "id": "cKLw_BH4h4Ly",
        "outputId": "16f74691-1be6-4893-889f-4dd23d4c0a18"
      },
      "execution_count": 21,
      "outputs": [
        {
          "output_type": "execute_result",
          "data": {
            "text/plain": [
              "array([10, 15, 17, 26, 13, 19, 12, 11, 21, 24, 14, 23])"
            ]
          },
          "metadata": {},
          "execution_count": 21
        }
      ]
    }
  ]
}